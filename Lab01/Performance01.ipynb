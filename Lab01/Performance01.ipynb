{
 "cells": [
  {
   "cell_type": "code",
   "id": "initial_id",
   "metadata": {
    "collapsed": true,
    "ExecuteTime": {
     "end_time": "2024-06-15T19:40:57.255994Z",
     "start_time": "2024-06-15T19:40:57.243525Z"
    }
   },
   "source": [
    "import math\n",
    "loops = 2500000\n",
    "a = range(1, loops)\n",
    "def f(x):\n",
    "    return 3 * math.log(x) + math.cos(x) ** 2"
   ],
   "outputs": [],
   "execution_count": 1
  },
  {
   "metadata": {
    "ExecuteTime": {
     "end_time": "2024-06-15T19:41:17.371168Z",
     "start_time": "2024-06-15T19:41:02.184832Z"
    }
   },
   "cell_type": "code",
   "source": "%timeit r = [f(x) for x in a]",
   "id": "8b747d4a26dc7a82",
   "outputs": [
    {
     "name": "stdout",
     "output_type": "stream",
     "text": [
      "1.84 s ± 29.8 ms per loop (mean ± std. dev. of 7 runs, 1 loop each)\n"
     ]
    }
   ],
   "execution_count": 2
  },
  {
   "metadata": {
    "ExecuteTime": {
     "end_time": "2024-06-15T19:46:14.133134Z",
     "start_time": "2024-06-15T19:46:13.532907Z"
    }
   },
   "cell_type": "code",
   "source": [
    "import numpy as np\n",
    "a = np.arange(1, loops)"
   ],
   "id": "c2282c33010d46ee",
   "outputs": [],
   "execution_count": 3
  },
  {
   "metadata": {
    "ExecuteTime": {
     "end_time": "2024-06-15T19:46:26.387869Z",
     "start_time": "2024-06-15T19:46:18.340400Z"
    }
   },
   "cell_type": "code",
   "source": "%timeit r = 3 * np.log(a) + np.cos(a) ** 2",
   "id": "cd8d611b7983138b",
   "outputs": [
    {
     "name": "stdout",
     "output_type": "stream",
     "text": [
      "97 ms ± 2.34 ms per loop (mean ± std. dev. of 7 runs, 10 loops each)\n"
     ]
    }
   ],
   "execution_count": 4
  },
  {
   "metadata": {
    "ExecuteTime": {
     "end_time": "2024-06-15T19:49:08.728818Z",
     "start_time": "2024-06-15T19:49:08.651425Z"
    }
   },
   "cell_type": "code",
   "source": [
    "import numexpr as ne\n",
    "ne.set_num_threads(1)\n",
    "f = '3 * log(a) + cos(a) ** 2'"
   ],
   "id": "63b5636ee582e2b8",
   "outputs": [],
   "execution_count": 5
  },
  {
   "metadata": {
    "ExecuteTime": {
     "end_time": "2024-06-15T19:49:18.804758Z",
     "start_time": "2024-06-15T19:49:11.271308Z"
    }
   },
   "cell_type": "code",
   "source": "%timeit r = ne.evaluate(f)",
   "id": "204aeb68863f142d",
   "outputs": [
    {
     "name": "stdout",
     "output_type": "stream",
     "text": [
      "89.2 ms ± 2.29 ms per loop (mean ± std. dev. of 7 runs, 10 loops each)\n"
     ]
    }
   ],
   "execution_count": 6
  },
  {
   "metadata": {
    "ExecuteTime": {
     "end_time": "2024-06-15T19:50:49.119091Z",
     "start_time": "2024-06-15T19:50:46.620413Z"
    }
   },
   "cell_type": "code",
   "source": [
    "ne.set_num_threads(4)\n",
    "%timeit r = ne.evaluate(f)\n"
   ],
   "id": "50bf8bfabe508fcd",
   "outputs": [
    {
     "name": "stdout",
     "output_type": "stream",
     "text": [
      "26.8 ms ± 1.15 ms per loop (mean ± std. dev. of 7 runs, 10 loops each)\n"
     ]
    }
   ],
   "execution_count": 7
  }
 ],
 "metadata": {
  "kernelspec": {
   "display_name": "Python 3",
   "language": "python",
   "name": "python3"
  },
  "language_info": {
   "codemirror_mode": {
    "name": "ipython",
    "version": 2
   },
   "file_extension": ".py",
   "mimetype": "text/x-python",
   "name": "python",
   "nbconvert_exporter": "python",
   "pygments_lexer": "ipython2",
   "version": "2.7.6"
  }
 },
 "nbformat": 4,
 "nbformat_minor": 5
}
