{
 "cells": [
  {
   "cell_type": "code",
   "id": "initial_id",
   "metadata": {
    "collapsed": true,
    "ExecuteTime": {
     "end_time": "2024-06-15T20:02:30.818876Z",
     "start_time": "2024-06-15T20:02:29.350139Z"
    }
   },
   "source": [
    "import eikon as ek\n",
    "ek.set_app_key('YOUR_APP_KEY')"
   ],
   "outputs": [],
   "execution_count": 1
  },
  {
   "metadata": {
    "ExecuteTime": {
     "end_time": "2024-06-15T20:02:33.657119Z",
     "start_time": "2024-06-15T20:02:33.650624Z"
    }
   },
   "cell_type": "code",
   "source": [
    "data = ek.get_timeseries('AAPL.O', fields='*',\n",
    "                                  start_date='2018-10-18 16:00:00',\n",
    "                                  end_date='2018-10-18 17:00:00',\n",
    "                                  interval='tick')"
   ],
   "id": "fceff6b2ef0cb1ea",
   "outputs": [
    {
     "name": "stderr",
     "output_type": "stream",
     "text": [
      "HTTP request failed: 'NoneType' object has no attribute 'http_request'\n"
     ]
    }
   ],
   "execution_count": 2
  }
 ],
 "metadata": {
  "kernelspec": {
   "display_name": "Python 3",
   "language": "python",
   "name": "python3"
  },
  "language_info": {
   "codemirror_mode": {
    "name": "ipython",
    "version": 2
   },
   "file_extension": ".py",
   "mimetype": "text/x-python",
   "name": "python",
   "nbconvert_exporter": "python",
   "pygments_lexer": "ipython2",
   "version": "2.7.6"
  }
 },
 "nbformat": 4,
 "nbformat_minor": 5
}
